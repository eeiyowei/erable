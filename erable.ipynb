{
 "cells": [
  {
   "cell_type": "markdown",
   "metadata": {},
   "source": [
    "# ERaBLE\n",
    "\n",
    "## 1. Introduction\n",
    "\n",
    "The problem addressed by Binet _et al._ (2016) is central to phylogenomics and involves the estimation of a species tree based on a large set of gene trees. However they do not address the topological aspect of this problem but focus on how to get meaningful branch length estimates for the species tree based on a set of homologous genomic features."
   ]
  },
  {
   "cell_type": "markdown",
   "metadata": {},
   "source": [
    "The problem is an equality constrained continuous optimization problem. The objective is a weighted least squares criterion (WLS) and the problem translates to a classic quadratic programming problem that can be solved using Lagrange multipliers. Least squares problems are known to be convex. The problem can be stated as:\n",
    "\n",
    "** Minimize: **\n",
    "$$\n",
    "    Q(\\hat{\\alpha},\\hat{b}) = \\sum\\limits_{k=1}^m\\sum\\limits_{\\{i,j\\} \\subset L_k} w_{ij}^{(k)}(\\hat{\\alpha}_k\\delta_{ij}-\\hat{d}_{ij})^2  \n",
    "$$\n",
    "\n",
    "** subject to: **\n",
    "$$\n",
    "    \\sum\\limits_{k=1}^mZ_k\\hat{\\alpha}_k = \\sum\\limits_{k=1}^{m}Z_k\n",
    "$$\n",
    "\n",
    "Where $L_k$ is the set of taxa for which sequences of $G_k$ (gene $k$) are available, $\\delta_{ij}^{(k)}$ the distance between taxon $i$ and $j$ for gene $k$ (from input distance matrix), $\\hat{b}$ the estimated branch length, $\\hat{\\alpha}_k$ the scale factor, with $\\hat{\\alpha}_k = 1/\\hat{r}_k$ with $\\hat{r}_k$ the evolutionary rate of $G_k$. The weights, $w_{ij}^{(k)}$, are chosen as the alignment lengths between taxons $i$ and $j$ for gene $k$. For the constraint, ERaBLE chooses $Z_k = N_k\\sum\\limits_{i,j \\in L_k}\\delta_{ij}^{(k)}$\n",
    "with $N_k$ the sequence length of $G_k$.\n",
    "    "
   ]
  },
  {
   "cell_type": "markdown",
   "metadata": {},
   "source": [
    "The problem can however be rephrased in matrix notation (Additional File 1 of Binet _et al._ 2016). Let $\\hat{\\alpha} = (\\hat{\\alpha}_1, \\hat{\\alpha}_2, \\dots, \\hat{\\alpha}_m)^T$ and similarly $\\hat{b} = (\\hat{b}_1,\\hat{b}_2, \\dots, \\hat{b}_\\tau)^T$ with $\\tau = |E(\\mathcal{T})|$ where $\\mathcal{T}$ denotes the tree topology graph. Let $\\delta_k$ be the vector with all pairwise distances $\\delta_{ij}^{(k)}$ for $G_k$. Similarly, let $\\hat{d}$ be the vector with all additive distances from $\\hat{b}$ and let $\\hat{d}_k$ denote the vector of all additive distances for the taxa included in $L_k$.\n",
    "\n",
    "We now define the topological matrix $A$ that represents the topology $\\mathcal{T}$ as the $n(n-1)/2 \\times \\tau$ matrix where each row corresponds to a pair of taxa and each column to a branch in $\\mathcal{T}$. Let $a_{ij,e}$ be the element for pair of taxa $i$ and $j$ for branch $e$, $a_{ij,e}$ is set to $1$ if $e$ is on the path between $i$ and $j$, and to $0$ otherwise. Similar as with the definition of $\\hat{d}_k$, let $A_k$ be the $|L_k|(|L_k|-1)/2 \\times \\tau$ matrix obtained by removing all pairs of taxa that are not present in in $L_k$. Now $\\hat{d} = A\\hat{b}$ and $\\hat{d}_k = A_k\\hat{b}$. Let $W_k$, the weight matrix, be the square matrix with as diagonal elements $w_{ij}^{(k)}$ and all other elements set to $0$. Finally let $z = (Z_1,Z_2,\\dots,Z_m)^T$ and $Z=\\sum\\limits_{k=1}^{m}Z_k$.\n",
    "\n",
    "The WLS problem can now be expressed as:\n",
    "\n",
    "** Minimize: **\n",
    "$$\n",
    "    Q(\\hat{\\alpha},\\hat{b}) = \\sum\\limits_{k=1}^m(\\hat{\\alpha}_k\\delta_k - A_k\\hat{b})^TW_k(\\hat{\\alpha}_k\\delta_k - A_k\\hat{b})\n",
    "$$\n",
    "\n",
    "** Subject to: **\n",
    "$$\n",
    "    z^T\\hat{\\alpha} = Z\n",
    "$$"
   ]
  },
  {
   "cell_type": "markdown",
   "metadata": {},
   "source": [
    "This problem can be solved using the method of Lagrange multipliers. The Lagrangian function is:\n",
    "\n",
    "$$\\mathcal{L}(\\hat{\\alpha},\\hat{b},\\lambda) = Q(\\hat{\\alpha},\\hat{b})+\\lambda(z^T\\hat{\\alpha}-Z)$$\n",
    "\n",
    "A necessary and sufficient condition for the tuple $(\\hat{\\alpha}, \\hat{b})$ to be an optimal solution for the above problem is that the gradient of the Lagrangian is zero _i.e._ $\\nabla_{\\hat{\\alpha},\\hat{b},\\lambda}\\mathcal{L}(\\hat{\\alpha}, \\hat{b}, \\lambda) = 0$, note that this is sufficient since the WLS problem is convex. We get the system of equations:\n",
    "\n",
    "$$\n",
    "    \\frac{\\partial\\mathcal{L}}{\\partial\\hat{\\alpha}_k} = 0\n",
    "$$\n",
    "$$\n",
    "    \\frac{\\partial\\mathcal{L}}{\\partial\\hat{b}} = 0\n",
    "$$\n",
    "$$\n",
    "    \\frac{\\partial\\mathcal{L}}{\\partial\\lambda} = 0\n",
    "$$\n",
    "\n",
    "Which results in:\n",
    "\n",
    "$$\n",
    "    \\hat{\\alpha}_k\\delta_k^TW_k\\delta_k - \\delta_k^TW_kA_kb + Z_k\\lambda/2 = 0\n",
    "$$\n",
    "$$\n",
    "    \\sum\\limits_{k=1}^{m}(A_k^TW_kA_k\\hat{b} - \\hat{\\alpha}_kA_k^TW_k\\delta_k) = 0\n",
    "$$\n",
    "$$\n",
    "    z^T\\hat{\\alpha} -Z = 0\n",
    "$$"
   ]
  },
  {
   "cell_type": "markdown",
   "metadata": {},
   "source": [
    "Here the first equation is a system of $m$ equations (with $m$ the number of genes), the second a system of $\\tau$ equations (with $\\tau$ the number of branches) and the last consists of one equation. This can be rewritten as:\n",
    "\n",
    "$$\n",
    "    D\\hat{\\alpha} + B^T\\hat{b} + \\lambda z = 0\n",
    "$$\n",
    "$$\n",
    "    B\\hat{\\alpha} + C\\hat{b} = 0\n",
    "$$\n",
    "$$\n",
    "    z^T\\hat{\\alpha}=Z\n",
    "$$\n",
    "With $D = \\delta_k^TW_k\\delta_k$, $B^T = - \\delta^T_kW_kA_k$ and $C = \\sum\\limits_{k=1}^mA^T_kW_kA_k$. The $1/2$ coeffici&euml;nt was dropped, as we are not interested in the value of the Lagrange multiplier. This system can be solved naively in $O(mn^4 + (m+n)^3)$ time, but this can be brought down to $O(mn^2 + n^3)$. Note that $Z_k = N_k\\sum\\limits_{i,j \\in L_k}\\delta_{ij}^{(k)}$ with $N_k$ the sequence length of $G_k$"
   ]
  },
  {
   "cell_type": "markdown",
   "metadata": {},
   "source": [
    "## 2. Calculation of distances"
   ]
  },
  {
   "cell_type": "markdown",
   "metadata": {},
   "source": [
    "Some functions to get distance matrices from a bunch of multiple sequence alignments."
   ]
  },
  {
   "cell_type": "code",
   "execution_count": 21,
   "metadata": {
    "collapsed": true
   },
   "outputs": [],
   "source": [
    "from numpy import inf\n",
    "from heapq import heappop, heappush, heappushpop, heapify\n",
    "import numpy as np\n",
    "import pandas as pd\n",
    "import os\n",
    "import re\n",
    "import itertools\n",
    "from ete3 import Tree\n",
    "import matplotlib.pyplot as plt\n",
    "import timeit\n",
    "from io import StringIO\n",
    "%matplotlib inline"
   ]
  },
  {
   "cell_type": "code",
   "execution_count": 6,
   "metadata": {
    "collapsed": true
   },
   "outputs": [],
   "source": [
    "species = {\n",
    "    'arath': re.compile('AT[^R].+'),\n",
    "    'ambtr': re.compile('ATR.+'),\n",
    "    'chlre': re.compile('CR.+'),\n",
    "    'phypa': re.compile('PP.+'),\n",
    "    'poptr': re.compile('PT.+'),\n",
    "    'orysa': re.compile('OS.+'),\n",
    "    'zeama': re.compile('ZM.+'),\n",
    "    'zosma': re.compile('Zosma.+'),\n",
    "    'ulvmu': re.compile('evm.+'),\n",
    "    'vitvi': re.compile('VV.+'),\n",
    "    'thepa': re.compile('TP.+'),\n",
    "    'bradi': re.compile('BD.+'),\n",
    "    'spipo': re.compile('Spipo.+'),\n",
    "    'caros': re.compile('Caros.+'),\n",
    "    'ostta': re.compile('OT.+')\n",
    "}\n",
    "\n",
    "def proportion_different_sites(s1, s2):\n",
    "    \"\"\"\n",
    "    Calculate the proportion of different sites between pairwise sequences\n",
    "    :param s1:\n",
    "    :param s2:\n",
    "    :return:\n",
    "    \"\"\"\n",
    "    p = 0\n",
    "    for i in range(len(s1)):\n",
    "        if s1[i] != s2[i]:\n",
    "            p += 1\n",
    "    return p/len(s1)\n",
    "\n",
    "\n",
    "def jukes_cantor(s1, s2):\n",
    "    \"\"\"\n",
    "    Implementation of the JC69 model (Jukes & Cantor, 1969) which assumes\n",
    "    that every nucleotide has the same instantaneous rate of changing into another\n",
    "    nucleotide (an assumption that is almost never valid).\n",
    "    :return:\n",
    "    \"\"\"\n",
    "    p = proportion_different_sites(s1, s2)\n",
    "    d = -(3/4)*np.log(1-(4/3)*p)\n",
    "    var_d = (p*(1-p)/len(s1))*(1/(1-4*p/3))\n",
    "    return d, var_d\n",
    "\n",
    "\n",
    "def distance_matrix(msa, distance='JC69'):\n",
    "    \"\"\"\n",
    "    Function to get a distance matrix from a multiple sequence alignment\n",
    "    :param msa: dictionary with aligned sequences\n",
    "    :param distance: distance metric to use (currently only JC69 supported)\n",
    "    :return: distance matrix (pandas data frame)\n",
    "    \"\"\"\n",
    "    l = list(msa.keys())\n",
    "    df = pd.DataFrame(np.zeros((len(l),len(l))), index=l, columns=l)\n",
    "    \n",
    "    for i in range(len(list(df.index))):\n",
    "        gene_1 = df.index[i]\n",
    "        \n",
    "        for j in range(i+1,len(list(df.index))):\n",
    "            gene_2 = df.index[j]\n",
    "            \n",
    "            if distance == 'JC69':\n",
    "                d = jukes_cantor(msa[gene_1], msa[gene_2])\n",
    "                df[gene_1][gene_2] = d[0]\n",
    "                df[gene_2][gene_1] = d[0]\n",
    "    \n",
    "    return df\n",
    "\n",
    "\n",
    "def read_msa(msa):\n",
    "    \"\"\"\n",
    "    Read multiple sequence alignment (MSA) in PHYLIP format.\n",
    "    :param msa: MSA file\n",
    "    :return: dictionary\n",
    "    \"\"\"\n",
    "    msa_dict = {}\n",
    "    \n",
    "    with open(msa, 'r') as f:\n",
    "        content = f.readlines()\n",
    "        \n",
    "    n_seq, length = int(content[0].split()[0].strip()), int(content[0].split()[1].strip())\n",
    "\n",
    "    for i in range(1,n_seq*2,2):\n",
    "        msa_dict[content[i].strip()] = content[i+1].strip()\n",
    "            \n",
    "    return msa_dict\n",
    "\n",
    "\n",
    "def get_species(gene, species):\n",
    "    \"\"\"\n",
    "    Get species for a gene using regex matches.\n",
    "    \"\"\"\n",
    "    for sp, p in species.items():\n",
    "        if p.match(gene):\n",
    "            return sp\n",
    "    raise ValueError(\"species not found for gene {}!\".format(gene))\n",
    "    \n",
    "\n",
    "def collapse_on_species(distance_matrix, species):\n",
    "    \"\"\"\n",
    "    Collapse a given distance matrix for a gene family on species level.\n",
    "    Distances for duplicates within a species are averaged.\n",
    "    \"\"\"\n",
    "    matrix = pd.DataFrame()\n",
    "    sp_set = set()\n",
    "    to_drop = []\n",
    "    for gene in distance_matrix.index:\n",
    "        sp = get_species(gene, species)\n",
    "        if sp in sp_set:\n",
    "            matrix[sp] += distance_matrix[gene]\n",
    "            matrix[sp] /= 2\n",
    "            to_drop.append(gene)\n",
    "        else:\n",
    "            matrix[sp] = distance_matrix[gene]\n",
    "            sp_set.add(sp)\n",
    "        \n",
    "    matrix = matrix.drop(to_drop)\n",
    "    matrix.index = matrix.columns\n",
    "    \n",
    "    for k in range(len(matrix.index)):\n",
    "        matrix.iloc[k,k] = 0\n",
    "    return matrix\n",
    "\n",
    "\n",
    "def parse_distance_matrices(distances_file):\n",
    "    \"\"\"\n",
    "    Parse ditances as provided by ERaBLE authors\n",
    "\n",
    "    :param distances_file: file with distance matrices\n",
    "    :return: distances data frames in list and sequence lengths\n",
    "    \"\"\"\n",
    "    lengths = []\n",
    "    matrices = []\n",
    "\n",
    "    with open(distances_file, 'r') as f:\n",
    "        content = f.read()\n",
    "\n",
    "    content = content.split('\\n\\n')\n",
    "    for mat in content[1:]:\n",
    "        mat = mat.split('\\n')\n",
    "        i = 0\n",
    "        for i in range(len(mat)):\n",
    "            if mat[i] != '':\n",
    "                break\n",
    "        if len(mat[i].split()) == 2:\n",
    "            lengths.append(int(mat[i].strip().split()[1]))\n",
    "            matrix = pd.read_csv(StringIO(\"\\n\".join(mat[i + 1:])), sep=\"\\s+\", header=None, index_col=0)\n",
    "            matrix.columns = matrix.index\n",
    "            matrices.append(matrix)\n",
    "\n",
    "    return matrices, lengths"
   ]
  },
  {
   "cell_type": "markdown",
   "metadata": {},
   "source": [
    "## 3. Helper functions for ERaBLE"
   ]
  },
  {
   "cell_type": "code",
   "execution_count": 7,
   "metadata": {
    "collapsed": false
   },
   "outputs": [],
   "source": [
    "def topology_matrix_dijkstra(tree, species):\n",
    "    \"\"\"\n",
    "    Input: newick tree\n",
    "    Output: topology matrix\n",
    "    \"\"\"\n",
    "    t = Tree(tree)\n",
    "    i = len(species)\n",
    "    for node in t.traverse():\n",
    "        if node.name in species:\n",
    "            node.name = species[node.name]\n",
    "        else:\n",
    "            node.name = i\n",
    "            i += 1\n",
    "\n",
    "    graph = tree_to_adj_list(t)\n",
    "    leaves = list(t.get_leaves())\n",
    "    paths = {}\n",
    "    branches = set()\n",
    "    for i in range(len(leaves)):\n",
    "        node1 = leaves[i]\n",
    "        for j in range(i + 1, len(leaves)):\n",
    "            node2 = leaves[j]\n",
    "            path, distance = dijkstra(graph, node1.name, node2.name)\n",
    "            path = [(path[x], path[x + 1]) for x in range(len(path) - 1)]\n",
    "            paths[tuple(sorted([node1.name, node2.name]))] = path\n",
    "            for p in path:\n",
    "                p = tuple(sorted(p))\n",
    "                if p not in branches:\n",
    "                    branches.add(p)\n",
    "\n",
    "    # put in a matrix\n",
    "    df = pd.DataFrame(index=list(paths.keys()), columns=list(branches))\n",
    "    for tup, path in paths.items():\n",
    "        for branch in path:\n",
    "            branch = tuple(sorted(branch))\n",
    "            df[branch][tup] = 1\n",
    "    df = df.fillna(0)\n",
    "    df.sort_index(0, inplace=True)\n",
    "    df.sort_index(1, inplace=True)\n",
    "    return df, t\n",
    "\n",
    "\n",
    "def dijkstra(graph, source, sink=None):\n",
    "    \"\"\"\n",
    "    Implementation of Dijkstra's shortest path algorithm\n",
    "    Inputs:\n",
    "        - graph : dict representing the weighted graph\n",
    "        - source : the source node\n",
    "        - sink : the sink node (optional)\n",
    "    Ouput:\n",
    "        - distance : dict with the distances of the nodes to the source\n",
    "        - came_from : dict with for each node the came_from node in the shortest\n",
    "                    path from the source\n",
    "    \"\"\"\n",
    "    distance = {v: inf for v in graph}\n",
    "    distance[source] = 0\n",
    "    current = source\n",
    "    previous = {}\n",
    "    Q = [(source, 0)]\n",
    "\n",
    "    while Q:\n",
    "        U = heappop(Q)\n",
    "        if sink and U == sink:\n",
    "            break\n",
    "        for V in graph[U[0]]:\n",
    "            alt = distance[U[0]] + V[0]\n",
    "            if alt < distance[V[1]]:\n",
    "                distance[V[1]] = alt\n",
    "                previous[V[1]] = U[0]\n",
    "                heappush(Q, (V[1], alt))\n",
    "\n",
    "    if sink is None:\n",
    "        return distance, previous\n",
    "    else:\n",
    "        return reconstruct_path(previous, source, sink), distance[sink]\n",
    "\n",
    "\n",
    "def reconstruct_path(previous, source, sink):\n",
    "    \"\"\"\n",
    "    Reconstruct the path from the output of the Dijkstra algorithm\n",
    "    Inputs:\n",
    "            - previous : a dict with the came_from node in the path\n",
    "            - source : the source node\n",
    "            - sink : the sink node\n",
    "    Ouput:\n",
    "            - the shortest path from source to sink (list)\n",
    "    \"\"\"\n",
    "    if sink not in previous:\n",
    "        return []\n",
    "\n",
    "    V = sink\n",
    "    path = [V]\n",
    "    while V != source:\n",
    "        V = previous[V]\n",
    "        path.append(V)\n",
    "    return path\n",
    "\n",
    "\n",
    "def tree_to_adj_list(tree):\n",
    "    \"\"\"\n",
    "    Convert ete3 Tree object to an adjacency list representing the tree graph\n",
    "    \"\"\"\n",
    "    adj_list = {}\n",
    "    for node in tree.traverse('postorder'):\n",
    "        l = []\n",
    "        if not node.is_leaf():\n",
    "            # add children\n",
    "            l += [(1, c.name) for c in node.children]\n",
    "        if not node.is_root():\n",
    "            # add parent\n",
    "            l.append((1, node.up.name))\n",
    "        adj_list[node.name] = set(l)\n",
    "    return adj_list\n",
    "\n",
    "\n",
    "def code_species(species):\n",
    "    \"\"\"\n",
    "    Code species to integers\n",
    "    \"\"\"\n",
    "    if type(species) == dict:\n",
    "        species = list(species.keys())\n",
    "    species_to_int = {x: 0 for x in species}\n",
    "    i = 0\n",
    "    for x in sorted(species):\n",
    "        species_to_int[x] = i\n",
    "        i += 1\n",
    "    return species_to_int\n",
    "\n",
    "\n",
    "def sub_topology_matrix(subset, matrix):\n",
    "    \"\"\"\n",
    "    Get topology matrix for a subset of taxa\n",
    "    \"\"\"\n",
    "    to_drop = []\n",
    "    for pair in matrix.index:\n",
    "        if pair[0] not in subset or pair[1] not in subset:\n",
    "            to_drop.append(pair)\n",
    "    matrix = matrix.drop(to_drop)\n",
    "    return matrix\n",
    "\n",
    "\n",
    "def sequence_length(msa_file):\n",
    "    \"\"\"\n",
    "    Construct a weight matrix. Using alignment length as weight.\n",
    "    \"\"\"\n",
    "    with open(msa_file, 'r') as f:\n",
    "        content = f.readlines()\n",
    "\n",
    "    length = int(content[0].split()[1].strip())\n",
    "    return length\n",
    "\n",
    "\n",
    "def weight_matrix(length, s):\n",
    "    \"\"\"\n",
    "    Construct a weight matrix. Using alignment length as weight.\n",
    "    \"\"\"\n",
    "    return np.diag([length for i in range(s)])\n",
    "\n",
    "\n",
    "def vectorize_delta(delta):\n",
    "    \"\"\"\n",
    "    Convert distance matrix to vector\n",
    "    \"\"\"\n",
    "    d = np.array(delta)\n",
    "    l = []\n",
    "    for i in range(0, len(d)):\n",
    "        for j in range(i + 1, len(d)):\n",
    "            l.append(d[i, j])\n",
    "    return np.array(l)\n",
    "\n",
    "\n",
    "def add_branch_lengths(tree, branches, species_mapping):\n",
    "    \"\"\"\n",
    "    Add branch lengthhs to an ete3 tree object\n",
    "    \"\"\"\n",
    "    inv_map = {v: k for k, v in species_mapping.items()}\n",
    "    for node in tree.traverse('postorder'):\n",
    "        if not node.is_root():\n",
    "            branch = tuple(sorted([node.name, node.up.name]))\n",
    "            node.dist = float(branches[branch])\n",
    "            if node.is_leaf():\n",
    "                node.name = inv_map[node.name]\n",
    "    return tree"
   ]
  },
  {
   "cell_type": "markdown",
   "metadata": {},
   "source": [
    "## 4. ERaBLE implementation"
   ]
  },
  {
   "cell_type": "code",
   "execution_count": 9,
   "metadata": {
    "collapsed": true
   },
   "outputs": [],
   "source": [
    "def solve_1(D, B, C, z, Z):\n",
    "    \"\"\"\n",
    "    Solve the full system in (n+m+1) unknowns\n",
    "    \"\"\"\n",
    "    naive = np.bmat(\n",
    "        [[D, B.T, z],\n",
    "         [B, C, np.ones((B.shape[0], 1))],\n",
    "         [z.T, np.zeros((1, C.shape[1])), np.array(0).reshape(1, 1)]]\n",
    "    )\n",
    "    right = np.zeros((1, naive.shape[0]))\n",
    "    right[:, -1] = Z\n",
    "    right = right.reshape(-1, 1)\n",
    "    solution = np.linalg.solve(naive, right)\n",
    "\n",
    "    return solution[D.shape[0]:-1], solution[:D.shape[0]]"
   ]
  },
  {
   "cell_type": "code",
   "execution_count": 10,
   "metadata": {
    "collapsed": false
   },
   "outputs": [],
   "source": [
    "def solve_2(D, B, C, z, Z):\n",
    "    \"\"\"\n",
    "    Solve the system by calculating the matrix M (n x n) matrix first\n",
    "    \"\"\"\n",
    "    # invert D, D is a diagonal matrix so inverse is just diagonal elements^-1\n",
    "    D_inv = 1/D\n",
    "    D_inv[np.isinf(D_inv)] = 0\n",
    "\n",
    "    u = B @ D_inv @ z\n",
    "    w = (z.T @ D_inv @ z)[0][0]\n",
    "    M = C + ((1 / w) * u @ u.T) - B @ D_inv @ B.T\n",
    "\n",
    "    b = np.linalg.solve(M, -(Z / w) * u)\n",
    "    alpha = D_inv @ ((z @ u.T / w) - B.T) @ b + (Z / w) * D_inv @ z\n",
    "\n",
    "\n",
    "    return b, alpha"
   ]
  },
  {
   "cell_type": "code",
   "execution_count": 16,
   "metadata": {
    "collapsed": true
   },
   "outputs": [],
   "source": [
    "def sort_distance_matrices(distance_matrices):\n",
    "    \"\"\"\n",
    "    Sort the distance matrix columns and rows as required for erable\n",
    "    \"\"\"\n",
    "    for k in range(len(distance_matrices)):\n",
    "        distance_matrices[k].sort_index(0, inplace=True)\n",
    "        distance_matrices[k].sort_index(1, inplace=True)\n",
    "    return distance_matrices"
   ]
  },
  {
   "cell_type": "code",
   "execution_count": 17,
   "metadata": {
    "collapsed": true
   },
   "outputs": [],
   "source": [
    "def erable(tree_file, species_mapping, distance_matrices, lengths, solve=1, subset=False, sort=True):\n",
    "    \"\"\"\n",
    "    ERaBLE main function\n",
    "    \"\"\"\n",
    "    # get the topology matrix and tree with inenal nodes named\n",
    "    A, t = topology_matrix_dijkstra(tree_file, species_mapping)\n",
    "\n",
    "    # construct C\n",
    "    C = np.zeros((A.shape[1], A.shape[1]))\n",
    "    weights = []\n",
    "    Aks = []\n",
    "    z = []\n",
    "    Nks = []\n",
    "\n",
    "    if sort:\n",
    "        distance_matrices = sort_distance_matrices(distance_matrices)\n",
    "\n",
    "    D = np.zeros((len(distance_matrices), len(distance_matrices)))\n",
    "    B = np.zeros((A.shape[1], len(distance_matrices)))\n",
    "\n",
    "    # calculate the coefficients for the system Grad(Lagrangian(alpha, b, lambda)) = 0\n",
    "    for k in range(len(distance_matrices)):\n",
    "        if subset:\n",
    "            taxa = [species_mapping[x.name] for x in Tree(tree_file).get_leaves()]\n",
    "            sub = set(taxa) & set(distance_matrices[k].index)\n",
    "            dist = distance_matrices[k][list(sub)]\n",
    "            dist = dist.ix[list(sub)]\n",
    "        else:\n",
    "            dist = distance_matrices[k]\n",
    "        delta = vectorize_delta(dist).reshape(-1, 1)\n",
    "        Ak = sub_topology_matrix(set(dist.index), A)\n",
    "        Nk = lengths[k]\n",
    "        Nks.append(Nk)\n",
    "        Wk = weight_matrix(Nk, len(delta))\n",
    "        C += Ak.T @ Wk @ Ak # this can be sped up by using the recursive algorithm from the additional file\n",
    "        weights.append(Wk)\n",
    "        Aks.append(Ak)\n",
    "        D[k, k] = delta.T @ Wk @ delta\n",
    "        B[:, k] = list(-Ak.T @ Wk @ delta)\n",
    "        Zk = Nk * delta.sum()\n",
    "        z.append(Zk)\n",
    "\n",
    "    # define the constraint\n",
    "    Z = sum(z)\n",
    "    z = np.array(z).reshape(-1, 1)\n",
    "\n",
    "    # solve the system Grad(Lagrangian(alpha, b, lambda)) = 0 \n",
    "    if solve == 1:\n",
    "        b, alpha = solve_1(D, B, C, z, Z)\n",
    "\n",
    "    else:\n",
    "        b, alpha = solve_2(D, B, C, z, Z)\n",
    "\n",
    "    # calculate scaling factor\n",
    "    c = (1 / sum(Nks)) * sum([Nks[i] / alpha[i] for i in range(len(Nks))])\n",
    "\n",
    "    # rescale\n",
    "    r = 1 / (c * alpha)\n",
    "    b = c * b\n",
    "    \n",
    "    # put branches in dictionary for easy addition to an ete3 tree later on\n",
    "    branches = {}\n",
    "    for i in range(len(b)):\n",
    "        branches[A.columns[i]] = b[i]\n",
    "\n",
    "    return (b, r, c, t, branches)"
   ]
  },
  {
   "cell_type": "markdown",
   "metadata": {},
   "source": [
    "## 5. Toy example from ERaBLE"
   ]
  },
  {
   "cell_type": "markdown",
   "metadata": {},
   "source": [
    "Here, a test is performed on a small toy data set included in the ERaBLE distribution (http://www.atgc-montpellier.fr/erable/usersguide.php) to check whether the implementation is correct."
   ]
  },
  {
   "cell_type": "code",
   "execution_count": 11,
   "metadata": {
    "collapsed": false
   },
   "outputs": [],
   "source": [
    "mats, lengths = parse_distance_matrices('./data/example.txt')\n",
    "\n",
    "tree_file = 'data/example.nwk'\n",
    "tree_s = '((Tax10:0.51144,(Tax34:0.19411,(Tax20:0.19064,Tax4:0.15564)1:0.09995)1:0.09856),(Tax14:0.10233,Tax3:0.03293)1:0.01914);'\n",
    "species = [n.name for n in Tree(tree_s).get_leaves()]\n",
    "species_mapping = code_species(species)\n",
    "\n",
    "for delta_matrix in mats:\n",
    "    delta_matrix.index = [species_mapping[x] for x in delta_matrix.index]\n",
    "    delta_matrix.columns = list(delta_matrix.index)\n",
    "\n",
    "lengths = [382, 210, 590]"
   ]
  },
  {
   "cell_type": "markdown",
   "metadata": {},
   "source": [
    "The topology matrix for this problem looks like this:"
   ]
  },
  {
   "cell_type": "code",
   "execution_count": 12,
   "metadata": {
    "collapsed": false
   },
   "outputs": [
    {
     "data": {
      "text/html": [
       "<div>\n",
       "<table border=\"1\" class=\"dataframe\">\n",
       "  <thead>\n",
       "    <tr style=\"text-align: right;\">\n",
       "      <th></th>\n",
       "      <th>(0, 6)</th>\n",
       "      <th>(1, 8)</th>\n",
       "      <th>(2, 9)</th>\n",
       "      <th>(3, 8)</th>\n",
       "      <th>(4, 7)</th>\n",
       "      <th>(5, 9)</th>\n",
       "      <th>(6, 7)</th>\n",
       "      <th>(6, 8)</th>\n",
       "      <th>(7, 9)</th>\n",
       "    </tr>\n",
       "  </thead>\n",
       "  <tbody>\n",
       "    <tr>\n",
       "      <th>(0, 1)</th>\n",
       "      <td>1</td>\n",
       "      <td>1</td>\n",
       "      <td>0</td>\n",
       "      <td>0</td>\n",
       "      <td>0</td>\n",
       "      <td>0</td>\n",
       "      <td>0</td>\n",
       "      <td>1</td>\n",
       "      <td>0</td>\n",
       "    </tr>\n",
       "    <tr>\n",
       "      <th>(0, 2)</th>\n",
       "      <td>1</td>\n",
       "      <td>0</td>\n",
       "      <td>1</td>\n",
       "      <td>0</td>\n",
       "      <td>0</td>\n",
       "      <td>0</td>\n",
       "      <td>1</td>\n",
       "      <td>0</td>\n",
       "      <td>1</td>\n",
       "    </tr>\n",
       "    <tr>\n",
       "      <th>(0, 3)</th>\n",
       "      <td>1</td>\n",
       "      <td>0</td>\n",
       "      <td>0</td>\n",
       "      <td>1</td>\n",
       "      <td>0</td>\n",
       "      <td>0</td>\n",
       "      <td>0</td>\n",
       "      <td>1</td>\n",
       "      <td>0</td>\n",
       "    </tr>\n",
       "    <tr>\n",
       "      <th>(0, 4)</th>\n",
       "      <td>1</td>\n",
       "      <td>0</td>\n",
       "      <td>0</td>\n",
       "      <td>0</td>\n",
       "      <td>1</td>\n",
       "      <td>0</td>\n",
       "      <td>1</td>\n",
       "      <td>0</td>\n",
       "      <td>0</td>\n",
       "    </tr>\n",
       "    <tr>\n",
       "      <th>(0, 5)</th>\n",
       "      <td>1</td>\n",
       "      <td>0</td>\n",
       "      <td>0</td>\n",
       "      <td>0</td>\n",
       "      <td>0</td>\n",
       "      <td>1</td>\n",
       "      <td>1</td>\n",
       "      <td>0</td>\n",
       "      <td>1</td>\n",
       "    </tr>\n",
       "    <tr>\n",
       "      <th>(1, 2)</th>\n",
       "      <td>0</td>\n",
       "      <td>1</td>\n",
       "      <td>1</td>\n",
       "      <td>0</td>\n",
       "      <td>0</td>\n",
       "      <td>0</td>\n",
       "      <td>1</td>\n",
       "      <td>1</td>\n",
       "      <td>1</td>\n",
       "    </tr>\n",
       "    <tr>\n",
       "      <th>(1, 3)</th>\n",
       "      <td>0</td>\n",
       "      <td>1</td>\n",
       "      <td>0</td>\n",
       "      <td>1</td>\n",
       "      <td>0</td>\n",
       "      <td>0</td>\n",
       "      <td>0</td>\n",
       "      <td>0</td>\n",
       "      <td>0</td>\n",
       "    </tr>\n",
       "    <tr>\n",
       "      <th>(1, 4)</th>\n",
       "      <td>0</td>\n",
       "      <td>1</td>\n",
       "      <td>0</td>\n",
       "      <td>0</td>\n",
       "      <td>1</td>\n",
       "      <td>0</td>\n",
       "      <td>1</td>\n",
       "      <td>1</td>\n",
       "      <td>0</td>\n",
       "    </tr>\n",
       "    <tr>\n",
       "      <th>(1, 5)</th>\n",
       "      <td>0</td>\n",
       "      <td>1</td>\n",
       "      <td>0</td>\n",
       "      <td>0</td>\n",
       "      <td>0</td>\n",
       "      <td>1</td>\n",
       "      <td>1</td>\n",
       "      <td>1</td>\n",
       "      <td>1</td>\n",
       "    </tr>\n",
       "    <tr>\n",
       "      <th>(2, 3)</th>\n",
       "      <td>0</td>\n",
       "      <td>0</td>\n",
       "      <td>1</td>\n",
       "      <td>1</td>\n",
       "      <td>0</td>\n",
       "      <td>0</td>\n",
       "      <td>1</td>\n",
       "      <td>1</td>\n",
       "      <td>1</td>\n",
       "    </tr>\n",
       "    <tr>\n",
       "      <th>(2, 4)</th>\n",
       "      <td>0</td>\n",
       "      <td>0</td>\n",
       "      <td>1</td>\n",
       "      <td>0</td>\n",
       "      <td>1</td>\n",
       "      <td>0</td>\n",
       "      <td>0</td>\n",
       "      <td>0</td>\n",
       "      <td>1</td>\n",
       "    </tr>\n",
       "    <tr>\n",
       "      <th>(2, 5)</th>\n",
       "      <td>0</td>\n",
       "      <td>0</td>\n",
       "      <td>1</td>\n",
       "      <td>0</td>\n",
       "      <td>0</td>\n",
       "      <td>1</td>\n",
       "      <td>0</td>\n",
       "      <td>0</td>\n",
       "      <td>0</td>\n",
       "    </tr>\n",
       "    <tr>\n",
       "      <th>(3, 4)</th>\n",
       "      <td>0</td>\n",
       "      <td>0</td>\n",
       "      <td>0</td>\n",
       "      <td>1</td>\n",
       "      <td>1</td>\n",
       "      <td>0</td>\n",
       "      <td>1</td>\n",
       "      <td>1</td>\n",
       "      <td>0</td>\n",
       "    </tr>\n",
       "    <tr>\n",
       "      <th>(3, 5)</th>\n",
       "      <td>0</td>\n",
       "      <td>0</td>\n",
       "      <td>0</td>\n",
       "      <td>1</td>\n",
       "      <td>0</td>\n",
       "      <td>1</td>\n",
       "      <td>1</td>\n",
       "      <td>1</td>\n",
       "      <td>1</td>\n",
       "    </tr>\n",
       "    <tr>\n",
       "      <th>(4, 5)</th>\n",
       "      <td>0</td>\n",
       "      <td>0</td>\n",
       "      <td>0</td>\n",
       "      <td>0</td>\n",
       "      <td>1</td>\n",
       "      <td>1</td>\n",
       "      <td>0</td>\n",
       "      <td>0</td>\n",
       "      <td>1</td>\n",
       "    </tr>\n",
       "  </tbody>\n",
       "</table>\n",
       "</div>"
      ],
      "text/plain": [
       "        (0, 6)  (1, 8)  (2, 9)  (3, 8)  (4, 7)  (5, 9)  (6, 7)  (6, 8)  (7, 9)\n",
       "(0, 1)       1       1       0       0       0       0       0       1       0\n",
       "(0, 2)       1       0       1       0       0       0       1       0       1\n",
       "(0, 3)       1       0       0       1       0       0       0       1       0\n",
       "(0, 4)       1       0       0       0       1       0       1       0       0\n",
       "(0, 5)       1       0       0       0       0       1       1       0       1\n",
       "(1, 2)       0       1       1       0       0       0       1       1       1\n",
       "(1, 3)       0       1       0       1       0       0       0       0       0\n",
       "(1, 4)       0       1       0       0       1       0       1       1       0\n",
       "(1, 5)       0       1       0       0       0       1       1       1       1\n",
       "(2, 3)       0       0       1       1       0       0       1       1       1\n",
       "(2, 4)       0       0       1       0       1       0       0       0       1\n",
       "(2, 5)       0       0       1       0       0       1       0       0       0\n",
       "(3, 4)       0       0       0       1       1       0       1       1       0\n",
       "(3, 5)       0       0       0       1       0       1       1       1       1\n",
       "(4, 5)       0       0       0       0       1       1       0       0       1"
      ]
     },
     "execution_count": 12,
     "metadata": {},
     "output_type": "execute_result"
    }
   ],
   "source": [
    "topology_matrix_dijkstra(species=species_mapping, tree=tree_file)[0]"
   ]
  },
  {
   "cell_type": "markdown",
   "metadata": {},
   "source": [
    "Now let's run the ERaBLE implementation:"
   ]
  },
  {
   "cell_type": "code",
   "execution_count": 13,
   "metadata": {
    "collapsed": false
   },
   "outputs": [],
   "source": [
    "b, r, c, t, branches = erable(tree_file=tree_file, species_mapping=species_mapping, \n",
    "                  distance_matrices=mats, lengths=lengths)\n",
    "b_, r_, c_, t_, branches_ = erable(tree_file=tree_file, species_mapping=species_mapping, \n",
    "                  distance_matrices=mats, lengths=lengths, solve=2)"
   ]
  },
  {
   "cell_type": "code",
   "execution_count": 14,
   "metadata": {
    "collapsed": false
   },
   "outputs": [
    {
     "data": {
      "image/png": "[encoded data removed]",
      "text/plain": [
       "<IPython.core.display.Image object>"
      ]
     },
     "execution_count": 14,
     "metadata": {},
     "output_type": "execute_result"
    }
   ],
   "source": [
    "t = add_branch_lengths(t_, branches_, species_mapping)\n",
    "t.render(file_name='%%inline')"
   ]
  },
  {
   "cell_type": "code",
   "execution_count": 15,
   "metadata": {
    "collapsed": false
   },
   "outputs": [
    {
     "data": {
      "text/plain": [
       "<matplotlib.text.Text at 0x7f3d4400af98>"
      ]
     },
     "execution_count": 15,
     "metadata": {},
     "output_type": "execute_result"
    },
    {
     "data": {
      "image/png": "[encoded data removed]",
      "text/plain": [
       "<matplotlib.figure.Figure at 0x7f3d44b99e10>"
      ]
     },
     "metadata": {},
     "output_type": "display_data"
    }
   ],
   "source": [
    "fig = plt.figure(figsize=(12,4))\n",
    "ax = fig.add_subplot(121)\n",
    "ax.plot(range(len(b)), b)\n",
    "ax.set_ylabel('Branch length')\n",
    "ax.set_xlabel('Branch')\n",
    "ax.set_title('Solve_1: c = {:.8f}'.format(c[0]))\n",
    "ax = fig.add_subplot(122)\n",
    "ax.plot(range(len(b_)), b_)\n",
    "ax.set_title('Solve_2: c = {:.8f}'.format(c_[0]))\n",
    "ax.set_ylabel('Branch length')\n",
    "ax.set_xlabel('Branch')"
   ]
  },
  {
   "cell_type": "code",
   "execution_count": 16,
   "metadata": {
    "collapsed": false
   },
   "outputs": [
    {
     "name": "stdout",
     "output_type": "stream",
     "text": [
      "Gene-wise rates: \n",
      "1.62883966 --- 1.62884031\n",
      "0.48603710 --- 0.48603694\n",
      "0.77578891 --- 0.77578855\n"
     ]
    }
   ],
   "source": [
    "print('Gene-wise rates: ')\n",
    "for i in range(len(r)):\n",
    "    print('{0:.8f} --- {1:.8f}'.format(r[i][0], r_[i][0]))"
   ]
  },
  {
   "cell_type": "markdown",
   "metadata": {},
   "source": [
    "The results are virtually the same for both solving methods. Also they are quasi identical to the results obtained with the distributed version (C++) of ERaBLE ($c=0.997023$)."
   ]
  },
  {
   "cell_type": "code",
   "execution_count": 18,
   "metadata": {
    "collapsed": false
   },
   "outputs": [
    {
     "name": "stdout",
     "output_type": "stream",
     "text": [
      "100 loops, best of 3: 14.3 ms per loop\n",
      "100 loops, best of 3: 13.7 ms per loop\n"
     ]
    }
   ],
   "source": [
    "%timeit erable(tree_file=tree_file, species_mapping=species_mapping, distance_matrices=mats, lengths=lengths)\n",
    "%timeit erable(tree_file=tree_file, species_mapping=species_mapping, distance_matrices=mats, lengths=lengths, solve=2)"
   ]
  },
  {
   "cell_type": "markdown",
   "metadata": {},
   "source": [
    "The execution times are also similar. This can be sped up by performing the recursive calculation of C as described by Binet _et al._."
   ]
  },
  {
   "cell_type": "markdown",
   "metadata": {},
   "source": [
    "## 6. OrthoMaM data set\n",
    "\n",
    "OrthoMaM (Ranwez _et al._, 2007) is a database for mammalian marker genes with one-to-one orthologous relations across multiple genomes selected on EnsEMBL genomes (http://www.orthomam.univ-montp2.fr/orthomam/html/). Besides using simulated data, Binet _et al._ used the OrthoMaM dataset for benchmarking ERaBLE as a real world example. Here the Python implementation is tested on the same data set."
   ]
  },
  {
   "cell_type": "markdown",
   "metadata": {},
   "source": [
    "### Pre-process the data"
   ]
  },
  {
   "cell_type": "code",
   "execution_count": 18,
   "metadata": {
    "collapsed": false
   },
   "outputs": [],
   "source": [
    "matrices, lengths = parse_distance_matrices('./data/orthomam_distances.txt')\n",
    "tree_file = './data/orthomam.nwk'\n",
    "tree = Tree(tree_file)\n",
    "species = [n.name for n in tree.get_leaves()]\n",
    "species_mapping = code_species(species)\n",
    "for delta_matrix in matrices:\n",
    "    delta_matrix.index = [species_mapping[x] for x in delta_matrix.index]\n",
    "    delta_matrix.columns = list(delta_matrix.index)\n",
    "matrices = sort_distance_matrices(matrices)"
   ]
  },
  {
   "cell_type": "markdown",
   "metadata": {},
   "source": [
    "### Experiments"
   ]
  },
  {
   "cell_type": "markdown",
   "metadata": {},
   "source": [
    "#### Scaling with $m$ (number of genes)"
   ]
  },
  {
   "cell_type": "code",
   "execution_count": 19,
   "metadata": {
    "collapsed": false
   },
   "outputs": [
    {
     "name": "stdout",
     "output_type": "stream",
     "text": [
      "m =  100, t = 6.17 | m =  200, t = 12.49 | m =  300, t = 18.07 | m =  400, t = 23.38 | m =  500, t = 30.46 | m =  750, t = 39.72 | m = 1000, t = 55.35 | m = 1500, t = 80.40 | m = 2000, t = 109.00 | m = 3000, t = 157.97 | "
     ]
    }
   ],
   "source": [
    "sizes = [100,200,300,400,500,750,1000,1500,2000,3000]\n",
    "times = []\n",
    "for size in sizes:\n",
    "    print('m = {:>4}'.format(size), end=', ')\n",
    "    t = timeit.timeit(lambda: erable(tree_file=tree_file, species_mapping=species_mapping,\n",
    "                                     distance_matrices=matrices[:size], lengths=lengths, sort=False),\n",
    "                      number=1)\n",
    "    print('t = {:>4.2f}'.format(t), end=' | ')\n",
    "    times.append(t)"
   ]
  },
  {
   "cell_type": "code",
   "execution_count": 20,
   "metadata": {
    "collapsed": false
   },
   "outputs": [
    {
     "data": {
      "text/plain": [
       "<matplotlib.text.Text at 0x7f6b8eacdef0>"
      ]
     },
     "execution_count": 20,
     "metadata": {},
     "output_type": "execute_result"
    },
    {
     "data": {
      "image/png": "[encoded data removed]",
      "text/plain": [
       "<matplotlib.figure.Figure at 0x7f6b8ea83668>"
      ]
     },
     "metadata": {},
     "output_type": "display_data"
    }
   ],
   "source": [
    "plt.plot(sizes, times)\n",
    "plt.xlabel('$m$')\n",
    "plt.ylabel('$t$')\n",
    "plt.title('Scaling with $m$')"
   ]
  },
  {
   "cell_type": "markdown",
   "metadata": {},
   "source": [
    "The implementation of ERaBLE seems to scale linearly in the number of genes. This is expected under the effcient implementation, for which the authors showed that the computational complexity is $O(mn^2 +n^3)$."
   ]
  },
  {
   "cell_type": "markdown",
   "metadata": {},
   "source": [
    "#### Scaling with $n$ (number of taxa)"
   ]
  },
  {
   "cell_type": "code",
   "execution_count": 132,
   "metadata": {
    "collapsed": false
   },
   "outputs": [
    {
     "name": "stdout",
     "output_type": "stream",
     "text": [
      "n =  6, t = 15.75 | n =  7, t = 14.67 | n =  8, t = 14.97 | n = 10, t = 15.63 | n = 11, t = 15.70 | n = 27, t = 76.97 | n = 29, t = 96.76 | n = 35, t = 206.79 | n = 36, t = 194.30 | n = 37, t = 213.46 | n = 38, t = 245.82 | n = 40, t = 319.96 | "
     ]
    }
   ],
   "source": [
    "sizes = [5,6,7,8,9,11,12,14,15,16,17,18]\n",
    "ns = []\n",
    "times = []\n",
    "for size in sizes:\n",
    "    n = tree.get_leaves_by_name('Homo')[0]\n",
    "    for i in range(size):\n",
    "        n = n.up\n",
    "    n.write(outfile='tmp.tree')\n",
    "\n",
    "    print('n = {:>2}'.format(len(n)), end= ', ')\n",
    "    t = timeit.timeit(lambda: erable(tree_file='tmp.tree', species_mapping=species_mapping,\n",
    "                                     distance_matrices=matrices[:5000], lengths=lengths,\n",
    "                                     subset=True, sort=False),\n",
    "                      number=1)\n",
    "    ns.append(len(n))\n",
    "    print('t = {:>4.2f}'.format(t), end = ' | ')\n",
    "    times.append(t)"
   ]
  },
  {
   "cell_type": "code",
   "execution_count": 136,
   "metadata": {
    "collapsed": false
   },
   "outputs": [
    {
     "data": {
      "image/png": "[encoded data removed]",
      "text/plain": [
       "<matplotlib.figure.Figure at 0x7fb697a082e8>"
      ]
     },
     "metadata": {},
     "output_type": "display_data"
    }
   ],
   "source": [
    "plt.plot(ns, times)\n",
    "plt.xlabel('$n$')\n",
    "plt.ylabel('$t$')\n",
    "plt.title('Scaling with $n$')\n",
    "plt.savefig('../scaling_n.png', dpi=200)\n",
    "plt.show()"
   ]
  },
  {
   "cell_type": "markdown",
   "metadata": {},
   "source": [
    "ERaBLE seems to scale approximately quadratic with $n$ ($\\tau = |\\mathcal{T}|$). As the complexity should be $O(mn^2 +n^3)$, this is the expected behavior for the case where $m > n$ (which is usually the case in phylogenomics analyses)."
   ]
  },
  {
   "cell_type": "markdown",
   "metadata": {},
   "source": [
    "### Full analysis on OrthoMaM "
   ]
  },
  {
   "cell_type": "markdown",
   "metadata": {},
   "source": [
    "A run on al 6953 genes for all species."
   ]
  },
  {
   "cell_type": "code",
   "execution_count": 10,
   "metadata": {
    "collapsed": false
   },
   "outputs": [
    {
     "name": "stdout",
     "output_type": "stream",
     "text": [
      "CPU times: user 7min 26s, sys: 14min 43s, total: 22min 9s\n",
      "Wall time: 5min 48s\n"
     ]
    }
   ],
   "source": [
    "%%time\n",
    "b, r, c, t, branches = erable(tree_file=tree_file, species_mapping=species_mapping, \n",
    "                              distance_matrices=matrices, lengths=lengths)"
   ]
  },
  {
   "cell_type": "markdown",
   "metadata": {},
   "source": [
    "This is way slower than the implementation of the Binet _et al._ (2016). However, the experiments show that it does scale as described."
   ]
  },
  {
   "cell_type": "code",
   "execution_count": 11,
   "metadata": {
    "collapsed": false
   },
   "outputs": [
    {
     "data": {
      "image/png": "[encoded data removed]",
      "text/plain": [
       "<IPython.core.display.Image object>"
      ]
     },
     "execution_count": 11,
     "metadata": {},
     "output_type": "execute_result"
    }
   ],
   "source": [
    "t = add_branch_lengths(t, branches, species_mapping)\n",
    "t.render(file_name='%%inline')"
   ]
  },
  {
   "cell_type": "markdown",
   "metadata": {},
   "source": [
    "Now the tree can be rooted with the platypus (_Ornithorhynchus_) as outgroup to get a nice view on mammalian evolution! With branch lengths!"
   ]
  },
  {
   "cell_type": "code",
   "execution_count": 13,
   "metadata": {
    "collapsed": false
   },
   "outputs": [
    {
     "data": {
      "image/png": "[encoded data removed]",
      "text/plain": [
       "<IPython.core.display.Image object>"
      ]
     },
     "execution_count": 13,
     "metadata": {},
     "output_type": "execute_result"
    }
   ],
   "source": [
    "t.set_outgroup('Ornithorhynchus')\n",
    "t.render(file_name='%%inline')"
   ]
  },
  {
   "cell_type": "markdown",
   "metadata": {},
   "source": [
    "We can also check the gene-wise relative evolutionary rates"
   ]
  },
  {
   "cell_type": "code",
   "execution_count": 25,
   "metadata": {
    "collapsed": false
   },
   "outputs": [
    {
     "data": {
      "image/png": "[encoded data removed]",
      "text/plain": [
       "<matplotlib.figure.Figure at 0x7fbc56c65240>"
      ]
     },
     "metadata": {},
     "output_type": "display_data"
    }
   ],
   "source": [
    "plt.boxplot(r, vert=False)\n",
    "plt.title('Gene-wise evolutionary rates')\n",
    "plt.xlabel('$r$')\n",
    "plt.yticks([])\n",
    "plt.show()"
   ]
  },
  {
   "cell_type": "markdown",
   "metadata": {},
   "source": [
    "Which shows a expected that most genes have low (putative purifying selection) or about average rates and a few genes with really high rates, whcih may point to positive selection or incomplete pseudogenization.  "
   ]
  },
  {
   "cell_type": "code",
   "execution_count": 20,
   "metadata": {
    "collapsed": false
   },
   "outputs": [
    {
     "name": "stdout",
     "output_type": "stream",
     "text": [
      "CPU times: user 7min 25s, sys: 14min 39s, total: 22min 5s\n",
      "Wall time: 5min 58s\n"
     ]
    }
   ],
   "source": [
    "%%time\n",
    "b, r, c, t, branches = erable(tree_file=tree_file, species_mapping=species_mapping, \n",
    "                              distance_matrices=matrices, lengths=lengths, solve=2)"
   ]
  },
  {
   "cell_type": "markdown",
   "metadata": {},
   "source": [
    "The other solving method, which does not calculate the matrix $M$ but rather solves the full system directly after the coefficients have been determined, performs similarly. Again, implementing the recursive algorithm to calculate the $C$ matrix may further speed up the calculations."
   ]
  },
  {
   "cell_type": "markdown",
   "metadata": {},
   "source": [
    "## References\n",
    "\n",
    "1. Binet, M., Gascuel, O., Scornavacca, C., P. Douzery, E. J., & Pardi, F. (2016). Fast and accurate branch lengths estimation for phylogenomic trees. BMC Bioinformatics, 17(1), 23. https://doi.org/10.1186/s12859-015-0821-8\n",
    "\n",
    "2. Ranwez, V., Delsuc, F., Ranwez, S., Belkhir, K., Tilak, M.-K., & Douzery, E. J. P. (2007). OrthoMaM: A database of orthologous genomic markers for placental mammal phylogenetics. BMC Evolutionary Biology, 7(1), 241. article. https://doi.org/10.1186/1471-2148-7-241"
   ]
  }
 ],
 "metadata": {
  "anaconda-cloud": {},
  "kernelspec": {
   "display_name": "Python [conda root]",
   "language": "python",
   "name": "conda-root-py"
  },
  "language_info": {
   "codemirror_mode": {
    "name": "ipython",
    "version": 3
   },
   "file_extension": ".py",
   "mimetype": "text/x-python",
   "name": "python",
   "nbconvert_exporter": "python",
   "pygments_lexer": "ipython3",
   "version": "3.5.2"
  }
 },
 "nbformat": 4,
 "nbformat_minor": 1
}
